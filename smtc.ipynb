{
 "cells": [
  {
   "cell_type": "markdown",
   "metadata": {},
   "source": [
    "### Welcome to smtc juypter notebooks\n",
    "\n",
    "[what is this?](https://mybinder.org/v2/gh/thesheff17/smtc_jupyter/master?filepath=about.ipynb)"
   ]
  },
  {
   "cell_type": "code",
   "execution_count": 1,
   "metadata": {},
   "outputs": [
    {
     "name": "stdout",
     "output_type": "stream",
     "text": [
      "Hello World\n"
     ]
    }
   ],
   "source": [
    "print (\"Hello World\")"
   ]
  },
  {
   "cell_type": "code",
   "execution_count": 2,
   "metadata": {},
   "outputs": [
    {
     "data": {
      "text/plain": [
       "'python version 3.7.5 (default, Nov  1 2019, 02:16:23) \\n[Clang 11.0.0 (clang-1100.0.33.8)] '"
      ]
     },
     "execution_count": 2,
     "metadata": {},
     "output_type": "execute_result"
    }
   ],
   "source": [
    "import sys\n",
    "\n",
    "# The version of python you are using\n",
    "f\"python version {sys.version} \""
   ]
  },
  {
   "cell_type": "code",
   "execution_count": null,
   "metadata": {},
   "outputs": [],
   "source": [
    "import multiprocessing\n",
    "import subprocess as sb\n",
    "\n",
    "# get how much ram we have in megs\n",
    "mem = sb.getoutput(\"free -m\")\n",
    "\n",
    "print (\"cpu count: \" + str(multiprocessing.cpu_count()) + \"\\n\")\n",
    "print (\"mem amount: \" + mem + \"\\n\")\n",
    "\n",
    "# get information about the CPU\n",
    "# !cat /proc/cpuinfo"
   ]
  },
  {
   "cell_type": "code",
   "execution_count": null,
   "metadata": {},
   "outputs": [],
   "source": [
    "!pip install pandas"
   ]
  },
  {
   "cell_type": "code",
   "execution_count": null,
   "metadata": {},
   "outputs": [],
   "source": [
    "import pandas as pd\n",
    "\n",
    "# get the version of pandas\n",
    "print(pd.__version__)\n",
    "\n",
    "# pull some sample data\n",
    "df = pd.read_json(\"https://data.smcgov.org/resource/mb6a-xn89.json\")\n",
    "\n",
    "# only display the top 5 records\n",
    "df.head(5)"
   ]
  }
 ],
 "metadata": {
  "kernelspec": {
   "display_name": "Python 3",
   "language": "python",
   "name": "python3"
  },
  "language_info": {
   "codemirror_mode": {
    "name": "ipython",
    "version": 3
   },
   "file_extension": ".py",
   "mimetype": "text/x-python",
   "name": "python",
   "nbconvert_exporter": "python",
   "pygments_lexer": "ipython3",
   "version": "3.7.5"
  }
 },
 "nbformat": 4,
 "nbformat_minor": 2
}
