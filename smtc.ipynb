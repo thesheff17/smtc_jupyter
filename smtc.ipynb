{
 "cells": [
  {
   "cell_type": "code",
   "execution_count": 1,
   "metadata": {},
   "outputs": [
    {
     "name": "stdout",
     "output_type": "stream",
     "text": [
      "Hello World\n"
     ]
    }
   ],
   "source": [
    "print (\"Hello World\")"
   ]
  },
  {
   "cell_type": "code",
   "execution_count": 2,
   "metadata": {},
   "outputs": [
    {
     "name": "stdout",
     "output_type": "stream",
     "text": [
      "3.6.7 | packaged by conda-forge | (default, Nov 21 2018, 02:32:25) \n",
      "[GCC 4.8.2 20140120 (Red Hat 4.8.2-15)]\n"
     ]
    }
   ],
   "source": [
    "import sys\n",
    "\n",
    "print(sys.version)"
   ]
  },
  {
   "cell_type": "code",
   "execution_count": 1,
   "metadata": {},
   "outputs": [
    {
     "name": "stdout",
     "output_type": "stream",
     "text": [
      "cpu count: 2\n",
      "processor\t: 0\n",
      "vendor_id\t: GenuineIntel\n",
      "cpu family\t: 6\n",
      "model\t\t: 158\n",
      "model name\t: Intel(R) Core(TM) i9-8950HK CPU @ 2.90GHz\n",
      "stepping\t: 10\n",
      "cpu MHz\t\t: 2900.000\n",
      "cache size\t: 12288 KB\n",
      "physical id\t: 0\n",
      "siblings\t: 1\n",
      "core id\t\t: 0\n",
      "cpu cores\t: 1\n",
      "apicid\t\t: 0\n",
      "initial apicid\t: 0\n",
      "fpu\t\t: yes\n",
      "fpu_exception\t: yes\n",
      "cpuid level\t: 22\n",
      "wp\t\t: yes\n",
      "flags\t\t: fpu vme de pse tsc msr pae mce cx8 apic sep mtrr pge mca cmov pat pse36 clflush mmx fxsr sse sse2 ss ht pbe syscall nx pdpe1gb lm constant_tsc rep_good nopl xtopology nonstop_tsc pni pclmulqdq dtes64 ds_cpl ssse3 sdbg fma cx16 xtpr pcid sse4_1 sse4_2 movbe popcnt aes xsave avx f16c rdrand hypervisor lahf_lm abm 3dnowprefetch kaiser fsgsbase bmi1 hle avx2 bmi2 erms rtm xsaveopt arat\n",
      "bugs\t\t: cpu_meltdown spectre_v1 spectre_v2 spec_store_bypass l1tf\n",
      "bogomips\t: 5808.00\n",
      "clflush size\t: 64\n",
      "cache_alignment\t: 64\n",
      "address sizes\t: 39 bits physical, 48 bits virtual\n",
      "power management:\n",
      "\n",
      "processor\t: 1\n",
      "vendor_id\t: GenuineIntel\n",
      "cpu family\t: 6\n",
      "model\t\t: 158\n",
      "model name\t: Intel(R) Core(TM) i9-8950HK CPU @ 2.90GHz\n",
      "stepping\t: 10\n",
      "cpu MHz\t\t: 2900.000\n",
      "cache size\t: 12288 KB\n",
      "physical id\t: 1\n",
      "siblings\t: 1\n",
      "core id\t\t: 0\n",
      "cpu cores\t: 1\n",
      "apicid\t\t: 1\n",
      "initial apicid\t: 1\n",
      "fpu\t\t: yes\n",
      "fpu_exception\t: yes\n",
      "cpuid level\t: 22\n",
      "wp\t\t: yes\n",
      "flags\t\t: fpu vme de pse tsc msr pae mce cx8 apic sep mtrr pge mca cmov pat pse36 clflush mmx fxsr sse sse2 ss ht pbe syscall nx pdpe1gb lm constant_tsc rep_good nopl xtopology nonstop_tsc pni pclmulqdq dtes64 ds_cpl ssse3 sdbg fma cx16 xtpr pcid sse4_1 sse4_2 movbe popcnt aes xsave avx f16c rdrand hypervisor lahf_lm abm 3dnowprefetch kaiser fsgsbase bmi1 hle avx2 bmi2 erms rtm xsaveopt arat\n",
      "bugs\t\t: cpu_meltdown spectre_v1 spectre_v2 spec_store_bypass l1tf\n",
      "bogomips\t: 12381.38\n",
      "clflush size\t: 64\n",
      "cache_alignment\t: 64\n",
      "address sizes\t: 39 bits physical, 48 bits virtual\n",
      "power management:\n",
      "\n"
     ]
    }
   ],
   "source": [
    "import multiprocessing\n",
    "print (\"cpu count: \" + str(multiprocessing.cpu_count()))\n",
    "\n",
    "!cat /proc/cpuinfo"
   ]
  },
  {
   "cell_type": "code",
   "execution_count": 2,
   "metadata": {},
   "outputs": [
    {
     "name": "stdout",
     "output_type": "stream",
     "text": [
      "Requirement already satisfied: pandas in /opt/conda/lib/python3.6/site-packages (0.23.4)\r\n",
      "Requirement already satisfied: pytz>=2011k in /opt/conda/lib/python3.6/site-packages (from pandas) (2018.7)\r\n",
      "Requirement already satisfied: numpy>=1.9.0 in /opt/conda/lib/python3.6/site-packages (from pandas) (1.13.3)\r\n",
      "Requirement already satisfied: python-dateutil>=2.5.0 in /opt/conda/lib/python3.6/site-packages (from pandas) (2.7.5)\r\n",
      "Requirement already satisfied: six>=1.5 in /opt/conda/lib/python3.6/site-packages (from python-dateutil>=2.5.0->pandas) (1.12.0)\r\n"
     ]
    }
   ],
   "source": [
    "!pip install pandas"
   ]
  },
  {
   "cell_type": "code",
   "execution_count": 3,
   "metadata": {},
   "outputs": [
    {
     "name": "stdout",
     "output_type": "stream",
     "text": [
      "0.23.4\n"
     ]
    },
    {
     "data": {
      "text/html": [
       "<div>\n",
       "<style scoped>\n",
       "    .dataframe tbody tr th:only-of-type {\n",
       "        vertical-align: middle;\n",
       "    }\n",
       "\n",
       "    .dataframe tbody tr th {\n",
       "        vertical-align: top;\n",
       "    }\n",
       "\n",
       "    .dataframe thead th {\n",
       "        text-align: right;\n",
       "    }\n",
       "</style>\n",
       "<table border=\"1\" class=\"dataframe\">\n",
       "  <thead>\n",
       "    <tr style=\"text-align: right;\">\n",
       "      <th></th>\n",
       "      <th>bachelor_s_degree_or_higher</th>\n",
       "      <th>geography</th>\n",
       "      <th>geography_type</th>\n",
       "      <th>high_school_graduate</th>\n",
       "      <th>less_than_high_school_graduate</th>\n",
       "      <th>location_1</th>\n",
       "      <th>some_college_or_associate_s_degree</th>\n",
       "      <th>year</th>\n",
       "    </tr>\n",
       "  </thead>\n",
       "  <tbody>\n",
       "    <tr>\n",
       "      <th>0</th>\n",
       "      <td>3.5</td>\n",
       "      <td>Atherton</td>\n",
       "      <td>Town</td>\n",
       "      <td>12.3</td>\n",
       "      <td>13.6</td>\n",
       "      <td>{'latitude': '37.458611', 'needs_recoding': Fa...</td>\n",
       "      <td>2.7</td>\n",
       "      <td>2014-01-01T00:00:00</td>\n",
       "    </tr>\n",
       "    <tr>\n",
       "      <th>1</th>\n",
       "      <td>3.6</td>\n",
       "      <td>Belmont</td>\n",
       "      <td>City</td>\n",
       "      <td>5.9</td>\n",
       "      <td>20.9</td>\n",
       "      <td>{'latitude': '37.518056', 'needs_recoding': Fa...</td>\n",
       "      <td>5.0</td>\n",
       "      <td>2014-01-01T00:00:00</td>\n",
       "    </tr>\n",
       "    <tr>\n",
       "      <th>2</th>\n",
       "      <td>3.3</td>\n",
       "      <td>Brisbane</td>\n",
       "      <td>City</td>\n",
       "      <td>1.7</td>\n",
       "      <td>0.0</td>\n",
       "      <td>{'latitude': '37.680833', 'needs_recoding': Fa...</td>\n",
       "      <td>11.5</td>\n",
       "      <td>2014-01-01T00:00:00</td>\n",
       "    </tr>\n",
       "    <tr>\n",
       "      <th>3</th>\n",
       "      <td>2.4</td>\n",
       "      <td>Broadmoor</td>\n",
       "      <td>CDP</td>\n",
       "      <td>8.0</td>\n",
       "      <td>21.2</td>\n",
       "      <td>{'latitude': '37.6925', 'needs_recoding': Fals...</td>\n",
       "      <td>3.0</td>\n",
       "      <td>2014-01-01T00:00:00</td>\n",
       "    </tr>\n",
       "    <tr>\n",
       "      <th>4</th>\n",
       "      <td>3.7</td>\n",
       "      <td>Burlingame</td>\n",
       "      <td>City</td>\n",
       "      <td>8.3</td>\n",
       "      <td>20.1</td>\n",
       "      <td>{'latitude': '37.583333', 'needs_recoding': Fa...</td>\n",
       "      <td>7.4</td>\n",
       "      <td>2014-01-01T00:00:00</td>\n",
       "    </tr>\n",
       "  </tbody>\n",
       "</table>\n",
       "</div>"
      ],
      "text/plain": [
       "   bachelor_s_degree_or_higher   geography geography_type  \\\n",
       "0                          3.5    Atherton           Town   \n",
       "1                          3.6     Belmont           City   \n",
       "2                          3.3    Brisbane           City   \n",
       "3                          2.4   Broadmoor            CDP   \n",
       "4                          3.7  Burlingame           City   \n",
       "\n",
       "   high_school_graduate  less_than_high_school_graduate  \\\n",
       "0                  12.3                            13.6   \n",
       "1                   5.9                            20.9   \n",
       "2                   1.7                             0.0   \n",
       "3                   8.0                            21.2   \n",
       "4                   8.3                            20.1   \n",
       "\n",
       "                                          location_1  \\\n",
       "0  {'latitude': '37.458611', 'needs_recoding': Fa...   \n",
       "1  {'latitude': '37.518056', 'needs_recoding': Fa...   \n",
       "2  {'latitude': '37.680833', 'needs_recoding': Fa...   \n",
       "3  {'latitude': '37.6925', 'needs_recoding': Fals...   \n",
       "4  {'latitude': '37.583333', 'needs_recoding': Fa...   \n",
       "\n",
       "   some_college_or_associate_s_degree                 year  \n",
       "0                                 2.7  2014-01-01T00:00:00  \n",
       "1                                 5.0  2014-01-01T00:00:00  \n",
       "2                                11.5  2014-01-01T00:00:00  \n",
       "3                                 3.0  2014-01-01T00:00:00  \n",
       "4                                 7.4  2014-01-01T00:00:00  "
      ]
     },
     "execution_count": 3,
     "metadata": {},
     "output_type": "execute_result"
    }
   ],
   "source": [
    "import pandas as pd\n",
    "print(pd.__version__)\n",
    "df = pd.read_json(\"https://data.smcgov.org/resource/mb6a-xn89.json\")\n",
    "\n",
    "df.head(5)"
   ]
  },
  {
   "cell_type": "code",
   "execution_count": null,
   "metadata": {},
   "outputs": [],
   "source": []
  }
 ],
 "metadata": {
  "kernelspec": {
   "display_name": "Python 3",
   "language": "python",
   "name": "python3"
  },
  "language_info": {
   "codemirror_mode": {
    "name": "ipython",
    "version": 3
   },
   "file_extension": ".py",
   "mimetype": "text/x-python",
   "name": "python",
   "nbconvert_exporter": "python",
   "pygments_lexer": "ipython3",
   "version": "3.6.7"
  }
 },
 "nbformat": 4,
 "nbformat_minor": 2
}
