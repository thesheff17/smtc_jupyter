{
 "cells": [
  {
   "cell_type": "markdown",
   "metadata": {},
   "source": [
    "### Welecome to the about page.\n",
    "if you want to go back to the main smtc page click [here](https://mybinder.org/v2/gh/thesheff17/smtc_jupyter/master?filepath=smtc.ipynb)\n"
   ]
  },
  {
   "cell_type": "markdown",
   "metadata": {},
   "source": [
    "### brief description:\n",
    "This is a collection of tools that provide an almost instant python development box in a browser.  There is a ton of tech behind how this works but I feel it is finally mature enough to group it together.  See the links section for the tech behind all this.\n"
   ]
  },
  {
   "cell_type": "markdown",
   "metadata": {},
   "source": [
    "### useful links:\n",
    "[python](https://www.python.org/)<br/>\n",
    "[linux](https://en.wikipedia.org/wiki/Linux)<br/>\n",
    "[juypter](https://jupyter.org/)<br/>\n",
    "[github](https://github.com)<br/>\n",
    "[mybinder](https://mybinder.org)<br/>\n",
    "[markdown](https://github.com/adam-p/markdown-here/wiki/Markdown-Cheatsheet)"
   ]
  },
  {
   "cell_type": "markdown",
   "metadata": {},
   "source": [
    "<html>\n",
    "<h5><center>What does smtc mean? (show me the code)</center></h5>\n",
    "<img src=\"https://github.com/thesheff17/smtc_jupyter/raw/master/smtc.png\", width=400, height=400>\n",
    "</html>"
   ]
  }
 ],
 "metadata": {
  "kernelspec": {
   "display_name": "Python 3",
   "language": "python",
   "name": "python3"
  },
  "language_info": {
   "codemirror_mode": {
    "name": "ipython",
    "version": 3
   },
   "file_extension": ".py",
   "mimetype": "text/x-python",
   "name": "python",
   "nbconvert_exporter": "python",
   "pygments_lexer": "ipython3",
   "version": "3.6.7"
  }
 },
 "nbformat": 4,
 "nbformat_minor": 2
}
