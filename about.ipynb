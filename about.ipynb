{
 "cells": [
  {
   "cell_type": "markdown",
   "metadata": {},
   "source": [
    "<html>\n",
    "    <center>\n",
    "    <h3>Welecome to the about page.</h3>\n",
    "    <h4>This will describe a little more of what this is.</h4>\n",
    "    <h5>What does smtc mean? </h5>\n",
    "    <img src=\"https://github.com/thesheff17/smtc_jupyter/raw/master/smtc.png\", width=400, height=400>\n",
    "    <h5>More usefule links:</h5>\n",
    "    </center>\n",
    "</html>"
   ]
  },
  {
   "cell_type": "code",
   "execution_count": null,
   "metadata": {},
   "outputs": [],
   "source": []
  }
 ],
 "metadata": {
  "kernelspec": {
   "display_name": "Python 3",
   "language": "python",
   "name": "python3"
  },
  "language_info": {
   "codemirror_mode": {
    "name": "ipython",
    "version": 3
   },
   "file_extension": ".py",
   "mimetype": "text/x-python",
   "name": "python",
   "nbconvert_exporter": "python",
   "pygments_lexer": "ipython3",
   "version": "3.6.7"
  }
 },
 "nbformat": 4,
 "nbformat_minor": 2
}
